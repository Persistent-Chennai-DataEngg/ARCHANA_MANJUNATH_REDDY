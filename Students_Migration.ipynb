{
 "cells": [
  {
   "cell_type": "code",
   "execution_count": 9,
   "id": "13b82c40-21af-4383-b189-1eb3344df98e",
   "metadata": {},
   "outputs": [],
   "source": [
    "#pip install google-cloud-bigquery"
   ]
  },
  {
   "cell_type": "code",
   "execution_count": 5,
   "id": "cb63d56c-adcc-4f34-bdd3-2f45d8627d01",
   "metadata": {},
   "outputs": [],
   "source": [
    "from pyspark.sql import SparkSession\n",
    "from pyspark.sql.types import StructType, StructField, StringType, IntegerType, DoubleType\n",
    "from pyspark.sql.functions import col, trim, lower,coalesce,lit\n",
    "\n",
    "spark = SparkSession.builder.appName(\"StudentsMigrationAnalysis\").getOrCreate()\n",
    "\n",
    "schema1 = StructType([\n",
    "    StructField(\"student_id\", StringType(), True),\n",
    "    StructField(\"origin_country\", StringType(), True),\n",
    "    StructField(\"destination_country\", StringType(), True),\n",
    "    StructField(\"destination_city\", StringType(), True),\n",
    "    StructField(\"university_name\", StringType(), True),\n",
    "    StructField(\"course_name\", StringType(), True),\n",
    "    StructField(\"field_of_study\", StringType(), True),\n",
    "    StructField(\"year_of_enrollment\", IntegerType(), True),\n",
    "    StructField(\"scholarship_received\", StringType(), True),\n",
    "    StructField(\"enrollment_reason\", StringType(), True),\n",
    "    StructField(\"graduation_year\", IntegerType(), True),\n",
    "    StructField(\"placement_status\", StringType(), True),\n",
    "    StructField(\"placement_country\", StringType(), True),\n",
    "    StructField(\"placement_company\", StringType(), True),\n",
    "    StructField(\"starting_salary_usd\", IntegerType(), True),\n",
    "    StructField(\"gpa_or_score\", DoubleType(), True),\n",
    "    StructField(\"visa_status\", StringType(), True),\n",
    "    StructField(\"post_graduation_visa\", StringType(), True),\n",
    "    StructField(\"language_proficiency_test\", StringType(), True),\n",
    "    StructField(\"test_score\", DoubleType(), True)\n",
    "])\n",
    "\n",
    "df = spark.read.schema(schema1).csv(\"C:/Users/Tejar/Downloads/global_student_migration.csv\", header=True, inferSchema=True)\n",
    "\n",
    "#df.printSchema()\n",
    "#df.show()\n",
    "df = df.replace([\"N/A\", \"None\"], None)\n",
    "df = df.dropDuplicates()\n",
    "numeric_cols = [\"starting_salary_usd\", \"gpa_or_score\", \"test_score\"]\n",
    "df = df.na.fill(0, subset=numeric_cols)\n",
    "\n",
    "\n",
    "df = df.withColumn(\"placement_company\", coalesce(df.placement_company, lit(\"Unknown\")))\n",
    "\n",
    "\n"
   ]
  },
  {
   "cell_type": "code",
   "execution_count": 6,
   "id": "e4e8ad3d-0a17-4cb7-9a5d-c54eac2a3ec0",
   "metadata": {},
   "outputs": [],
   "source": [
    "df.write.mode(\"overwrite\").csv(\"cleanedmigrationdata\")"
   ]
  },
  {
   "cell_type": "code",
   "execution_count": 8,
   "id": "524a609c-112b-4764-b77e-f64dedab6648",
   "metadata": {},
   "outputs": [
    {
     "name": "stdout",
     "output_type": "stream",
     "text": [
      "Loaded 4999 rows into enduring-victor-468209-a4.Student_Migration.migration.\n"
     ]
    }
   ],
   "source": [
    "import os\n",
    "from google.cloud import bigquery\n",
    "\n",
    "\n",
    "os.environ[\"GOOGLE_APPLICATION_CREDENTIALS\"] = \"C:/Users/Tejar/Downloads/enduring-victor-468209-a4-3d960056faee.json\"\n",
    "\n",
    "\n",
    "client = bigquery.Client()\n",
    "\n",
    "project_id = \"enduring-victor-468209-a4\"\n",
    "dataset_id = \"Student_Migration\"\n",
    "table_id = \"migration\"\n",
    "csv_file_path = \"C:/Users/Tejar/pyspark_practice/cleanedmigrationdata/part-00000-c0b0d640-f641-410a-a846-605f82f953b6-c000.csv\"\n",
    "\n",
    "table_ref = f\"{project_id}.{dataset_id}.{table_id}\"\n",
    "\n",
    "job_config = bigquery.LoadJobConfig(\n",
    "    source_format=bigquery.SourceFormat.CSV,\n",
    "    skip_leading_rows=1,      \n",
    "    autodetect=True,           \n",
    "    write_disposition=\"WRITE_TRUNCATE\")\n",
    "\n",
    "with open(csv_file_path, \"rb\") as source_file:\n",
    "    load_job = client.load_table_from_file(\n",
    "        source_file,\n",
    "        destination=table_ref,\n",
    "        job_config=job_config,\n",
    "    )\n",
    "\n",
    "\n",
    "load_job.result()\n",
    "\n",
    "destination_table = client.get_table(table_ref)\n",
    "print(f\"Loaded {destination_table.num_rows} rows into {table_ref}.\") "
   ]
  }
 ],
 "metadata": {
  "kernelspec": {
   "display_name": "Python 3 (ipykernel)",
   "language": "python",
   "name": "python3"
  },
  "language_info": {
   "codemirror_mode": {
    "name": "ipython",
    "version": 3
   },
   "file_extension": ".py",
   "mimetype": "text/x-python",
   "name": "python",
   "nbconvert_exporter": "python",
   "pygments_lexer": "ipython3",
   "version": "3.11.4"
  }
 },
 "nbformat": 4,
 "nbformat_minor": 5
}
