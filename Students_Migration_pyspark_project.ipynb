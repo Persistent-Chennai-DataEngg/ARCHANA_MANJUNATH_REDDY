{
 "cells": [
  {
   "cell_type": "code",
   "execution_count": 9,
   "id": "13b82c40-21af-4383-b189-1eb3344df98e",
   "metadata": {},
   "outputs": [],
   "source": [
    "#pip install google-cloud-bigquery"
   ]
  },
  {
   "cell_type": "code",
   "execution_count": 9,
   "id": "cb63d56c-adcc-4f34-bdd3-2f45d8627d01",
   "metadata": {},
   "outputs": [
    {
     "name": "stdout",
     "output_type": "stream",
     "text": [
      "root\n",
      " |-- student_id: string (nullable = true)\n",
      " |-- origin_country: string (nullable = true)\n",
      " |-- destination_country: string (nullable = true)\n",
      " |-- destination_city: string (nullable = true)\n",
      " |-- university_name: string (nullable = true)\n",
      " |-- course_name: string (nullable = true)\n",
      " |-- field_of_study: string (nullable = true)\n",
      " |-- year_of_enrollment: integer (nullable = true)\n",
      " |-- scholarship_received: string (nullable = true)\n",
      " |-- enrollment_reason: string (nullable = true)\n",
      " |-- graduation_year: integer (nullable = true)\n",
      " |-- placement_status: string (nullable = true)\n",
      " |-- placement_country: string (nullable = true)\n",
      " |-- placement_company: string (nullable = false)\n",
      " |-- starting_salary_usd: integer (nullable = true)\n",
      " |-- gpa_or_score: double (nullable = false)\n",
      " |-- visa_status: string (nullable = true)\n",
      " |-- post_graduation_visa: string (nullable = true)\n",
      " |-- language_proficiency_test: string (nullable = true)\n",
      " |-- test_score: double (nullable = false)\n",
      "\n",
      "+----------+--------------+-------------------+----------------+--------------------+--------------------+----------------+------------------+--------------------+-------------------+---------------+----------------+-----------------+-----------------+-------------------+------------+--------------------+--------------------+-------------------------+----------+\n",
      "|student_id|origin_country|destination_country|destination_city|     university_name|         course_name|  field_of_study|year_of_enrollment|scholarship_received|  enrollment_reason|graduation_year|placement_status|placement_country|placement_company|starting_salary_usd|gpa_or_score|         visa_status|post_graduation_visa|language_proficiency_test|test_score|\n",
      "+----------+--------------+-------------------+----------------+--------------------+--------------------+----------------+------------------+--------------------+-------------------+---------------+----------------+-----------------+-----------------+-------------------+------------+--------------------+--------------------+-------------------------+----------+\n",
      "|    S00656|        Russia|             Canada|          London|  Western University|              Design|            Arts|              2019|                 Yes|    Quality of Life|           2020|          Placed|           Canada|         Deloitte|              92807|        3.99|                  F1|                 PSW|                      PTE|       6.0|\n",
      "|    S02909|       Germany|             Canada|        Edmonton|University of Alb...|    Computer Science|             Law|              2021|                  No|  Job Opportunities|           2022|          Placed|           Canada|         Facebook|              60886|        3.86|        Study Permit|           Blue Card|                    IELTS|       8.5|\n",
      "|    S04057|       Ireland|              India|          Mumbai|          IIT Bombay|Business Administ...| Social Sciences|              2020|                  No|Political Stability|           2021|          Placed|            India|              SAP|             138260|        2.51|        Study Permit|                 OPT|                      PTE|       7.4|\n",
      "|    S04484|         India|            Germany|       Stuttgart|University of Stu...|                 Law|Natural Sciences|              2019|                 Yes|Political Stability|           2021|          Placed|          Germany|        Microsoft|             130669|        3.72|                  F1|                 PSW|                      PTE|       6.0|\n",
      "|    S04543|        Canada|              India|           Delhi|    Delhi University|           Economics|        Medicine|              2019|                  No|  Job Opportunities|           2021|          Placed|            India|         Facebook|              69179|        3.95|                  J1|                 PSW|                 Duolingo|       7.7|\n",
      "|    S00696|       Ireland|              India| Tiruchirappalli|          NIT Trichy|Electrical Engine...|        Business|              2020|                  No|     Higher Ranking|           2021|          Placed|            India|            Apple|              90900|        3.93|        Student Visa|                 OPT|                 Duolingo|       8.9|\n",
      "|    S00735|        Russia|              India|          Pilani|         BITS Pilani|             Finance|Computer Science|              2019|                 Yes|Political Stability|           2022|          Placed|            India|        Microsoft|              54833|        3.18|              Tier 4|     Post-Study Visa|                    TOEFL|       7.9|\n",
      "|    S01301|       Germany|             Canada|        Edmonton|University of Alb...|   Civil Engineering|Computer Science|              2019|                  No|  Job Opportunities|           2022|          Placed|           Canada|           Google|              48489|        2.75|        Study Permit|         Work Permit|                      PTE|       5.4|\n",
      "|    S01395|       Ireland|             Canada|        Kingston|  Queen's University|   Civil Engineering|        Medicine|              2021|                 Yes|    Quality of Life|           2024|          Placed|           Canada|        Microsoft|             111022|        3.84|Schengen Student ...|     Post-Study Visa|                    TOEFL|       7.6|\n",
      "|    S02098|  South Africa|            Germany|          Munich|Technical Univers...|Mechanical Engine...|Computer Science|              2021|                  No|Political Stability|           2023|          Placed|          Germany|            Tesla|              33650|        2.75|        Student Visa|           Blue Card|                 Duolingo|       5.6|\n",
      "|    S02309|       Germany|             Canada|        Montreal|   McGill University|            Medicine|Computer Science|              2023|                 Yes|Political Stability|           2025|          Placed|           Canada|         Deloitte|              95672|        3.07|              Tier 4|     Post-Study Visa|                      PTE|       7.7|\n",
      "|    S02344|  South Africa|             Russia|     Novosibirsk|Novosibirsk State...|   Political Science|             Law|              2020|                  No|    Quality of Life|           2022|          Placed|           Russia|           Google|              31478|        2.94|                  J1|         Work Permit|                 Duolingo|       8.4|\n",
      "|    S02443|         India|             Canada|        Montreal|   McGill University|             Finance|Natural Sciences|              2019|                 Yes|  Job Opportunities|           2022|          Placed|           Canada|           Google|              77324|        3.24|        Study Permit|                 PSW|                      PTE|       7.9|\n",
      "|    S02925|        Canada|                UAE|           Dubai|Middlesex Univers...|             Finance|Natural Sciences|              2019|                 Yes|        Scholarship|           2020|          Placed|              UAE|        Microsoft|              32199|        3.25|                  J1|     Post-Study Visa|                      PTE|       8.9|\n",
      "|    S03159|  South Africa|            Finland|           Turku|Ã…bo Akademi Univ...|   Political Science|             Law|              2021|                  No|Political Stability|           2022|          Placed|          Finland|         Deloitte|             144267|        2.52|        Study Permit|           Blue Card|                    IELTS|       7.1|\n",
      "|    S03889|           UAE|                USA|   San Francisco| Stanford University|              Design|        Business|              2022|                 Yes|    Quality of Life|           2024|          Placed|              USA|            Tesla|              74774|        3.21|Schengen Student ...|                 OPT|                    IELTS|       5.0|\n",
      "|    S04041|        Russia|            Finland|         Joensuu|University of Eas...|Business Administ...|             Law|              2023|                 Yes|Political Stability|           2026|          Placed|          Finland|            Intel|              89329|         3.6|                  J1|         Work Permit|                    IELTS|       6.1|\n",
      "|    S00646|           USA|             Canada|       Vancouver|University of Bri...|             Finance|Natural Sciences|              2023|                  No|        Scholarship|           2026|          Placed|           Canada|           Google|              34627|        3.23|              Tier 4|                 PSW|                 Duolingo|       5.8|\n",
      "|    S00973|           USA|            Finland|         Tampere|  Tampere University|        Data Science|Natural Sciences|              2022|                 Yes|  Job Opportunities|           2025|          Placed|          Finland|         Facebook|              77576|        2.58|        Student Visa|         Work Permit|                      PTE|       8.7|\n",
      "|    S02546|           USA|             Russia|Saint Petersburg|Saint Petersburg ...|              Design| Social Sciences|              2022|                 Yes|Political Stability|           2025|          Placed|           Russia|              SAP|             132249|        2.95|                  F1|                 PSW|                    IELTS|       7.5|\n",
      "+----------+--------------+-------------------+----------------+--------------------+--------------------+----------------+------------------+--------------------+-------------------+---------------+----------------+-----------------+-----------------+-------------------+------------+--------------------+--------------------+-------------------------+----------+\n",
      "only showing top 20 rows\n"
     ]
    }
   ],
   "source": [
    "from pyspark.sql import SparkSession\n",
    "from pyspark.sql.types import StructType, StructField, StringType, IntegerType, DoubleType\n",
    "from pyspark.sql.functions import col, trim, lower,coalesce,lit\n",
    "\n",
    "spark = SparkSession.builder.appName(\"StudentsMigrationAnalysis\").getOrCreate()\n",
    "\n",
    "schema1 = StructType([\n",
    "    StructField(\"student_id\", StringType(), True),\n",
    "    StructField(\"origin_country\", StringType(), True),\n",
    "    StructField(\"destination_country\", StringType(), True),\n",
    "    StructField(\"destination_city\", StringType(), True),\n",
    "    StructField(\"university_name\", StringType(), True),\n",
    "    StructField(\"course_name\", StringType(), True),\n",
    "    StructField(\"field_of_study\", StringType(), True),\n",
    "    StructField(\"year_of_enrollment\", IntegerType(), True),\n",
    "    StructField(\"scholarship_received\", StringType(), True),\n",
    "    StructField(\"enrollment_reason\", StringType(), True),\n",
    "    StructField(\"graduation_year\", IntegerType(), True),\n",
    "    StructField(\"placement_status\", StringType(), True),\n",
    "    StructField(\"placement_country\", StringType(), True),\n",
    "    StructField(\"placement_company\", StringType(), True),\n",
    "    StructField(\"starting_salary_usd\", IntegerType(), True),\n",
    "    StructField(\"gpa_or_score\", DoubleType(), True),\n",
    "    StructField(\"visa_status\", StringType(), True),\n",
    "    StructField(\"post_graduation_visa\", StringType(), True),\n",
    "    StructField(\"language_proficiency_test\", StringType(), True),\n",
    "    StructField(\"test_score\", DoubleType(), True)\n",
    "])\n",
    "\n",
    "df = spark.read.schema(schema1).csv(\"C:/Users/Tejar/Downloads/global_student_migration.csv\", header=True, inferSchema=True)\n",
    "\n",
    "\n",
    "df = df.replace([\"N/A\", \"None\"], None)\n",
    "df = df.dropDuplicates()\n",
    "numeric_cols = [\"starting_salary_usd\", \"gpa_or_score\", \"test_score\"]\n",
    "df = df.na.fill(0, subset=numeric_cols)\n",
    "\n",
    "\n",
    "df = df.withColumn(\"placement_company\", coalesce(df.placement_company, lit(\"Unknown\")))\n",
    "\n",
    "df.printSchema()\n",
    "df.show()\n"
   ]
  },
  {
   "cell_type": "code",
   "execution_count": 6,
   "id": "e4e8ad3d-0a17-4cb7-9a5d-c54eac2a3ec0",
   "metadata": {},
   "outputs": [],
   "source": [
    "df.write.mode(\"overwrite\").csv(\"cleanedmigrationdata\")"
   ]
  },
  {
   "cell_type": "code",
   "execution_count": 8,
   "id": "524a609c-112b-4764-b77e-f64dedab6648",
   "metadata": {},
   "outputs": [
    {
     "name": "stdout",
     "output_type": "stream",
     "text": [
      "Loaded 4999 rows into enduring-victor-468209-a4.Student_Migration.migration.\n"
     ]
    }
   ],
   "source": [
    "import os\n",
    "from google.cloud import bigquery\n",
    "\n",
    "\n",
    "os.environ[\"GOOGLE_APPLICATION_CREDENTIALS\"] = \"C:/Users/Tejar/Downloads/enduring-victor-468209-a4-3d960056faee.json\"\n",
    "\n",
    "\n",
    "client = bigquery.Client()\n",
    "\n",
    "project_id = \"enduring-victor-468209-a4\"\n",
    "dataset_id = \"Student_Migration\"\n",
    "table_id = \"migration\"\n",
    "csv_file_path = \"C:/Users/Tejar/pyspark_practice/cleanedmigrationdata/part-00000-c0b0d640-f641-410a-a846-605f82f953b6-c000.csv\"\n",
    "\n",
    "table_ref = f\"{project_id}.{dataset_id}.{table_id}\"\n",
    "\n",
    "job_config = bigquery.LoadJobConfig(\n",
    "    source_format=bigquery.SourceFormat.CSV,\n",
    "    skip_leading_rows=1,      \n",
    "    autodetect=True,           \n",
    "    write_disposition=\"WRITE_TRUNCATE\")\n",
    "\n",
    "with open(csv_file_path, \"rb\") as source_file:\n",
    "    load_job = client.load_table_from_file(\n",
    "        source_file,\n",
    "        destination=table_ref,\n",
    "        job_config=job_config,\n",
    "    )\n",
    "\n",
    "\n",
    "load_job.result()\n",
    "\n",
    "destination_table = client.get_table(table_ref)\n",
    "print(f\"Loaded {destination_table.num_rows} rows into {table_ref}.\") "
   ]
  }
 ],
 "metadata": {
  "kernelspec": {
   "display_name": "Python 3 (ipykernel)",
   "language": "python",
   "name": "python3"
  },
  "language_info": {
   "codemirror_mode": {
    "name": "ipython",
    "version": 3
   },
   "file_extension": ".py",
   "mimetype": "text/x-python",
   "name": "python",
   "nbconvert_exporter": "python",
   "pygments_lexer": "ipython3",
   "version": "3.11.4"
  }
 },
 "nbformat": 4,
 "nbformat_minor": 5
}
